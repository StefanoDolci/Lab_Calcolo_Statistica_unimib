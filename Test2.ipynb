{
 "cells": [
  {
   "cell_type": "code",
   "execution_count": 57,
   "metadata": {},
   "outputs": [],
   "source": [
    "import numpy as np\n",
    "import matplotlib.pyplot as plt\n"
   ]
  },
  {
   "cell_type": "code",
   "execution_count": 58,
   "metadata": {},
   "outputs": [
    {
     "name": "stdout",
     "output_type": "stream",
     "text": [
      "[2, 3, 5, 7, 48, 89, 54]\n",
      "('ciao', 1, 2, 3, 'bitch£ù')\n"
     ]
    }
   ],
   "source": [
    "lista = [2,3,5,7,48,89,54]\n",
    "\n",
    "print(lista)\n",
    "\n",
    "tuple = (\"ciao\", 1, 2 ,3 ,\"bitch£ù\")\n",
    "print(tuple)\n"
   ]
  },
  {
   "cell_type": "code",
   "execution_count": 59,
   "metadata": {},
   "outputs": [
    {
     "name": "stdout",
     "output_type": "stream",
     "text": [
      "15\n"
     ]
    }
   ],
   "source": [
    "variabile = int(input(\"inserisci un numero: \"))\n",
    "print(variabile)"
   ]
  },
  {
   "cell_type": "code",
   "execution_count": 60,
   "metadata": {},
   "outputs": [],
   "source": [
    "def quadrato(x):\n",
    "    return x**2\n",
    "\n"
   ]
  },
  {
   "cell_type": "markdown",
   "metadata": {},
   "source": [
    "# librerie"
   ]
  },
  {
   "cell_type": "code",
   "execution_count": 61,
   "metadata": {},
   "outputs": [
    {
     "name": "stdout",
     "output_type": "stream",
     "text": [
      "range(0, 100)\n"
     ]
    }
   ],
   "source": [
    "lista = np.arange (0,110,10)\n",
    "#stampa da 1 a 100 con step di 2\n",
    "\n",
    "lista_ = np.linspace(0,100,10)\n",
    "\n",
    "\n",
    "listo = range(100)\n",
    "print(listo)"
   ]
  },
  {
   "cell_type": "code",
   "execution_count": 80,
   "metadata": {},
   "outputs": [
    {
     "ename": "NameError",
     "evalue": "name 'dati' is not defined",
     "output_type": "error",
     "traceback": [
      "\u001b[1;31m---------------------------------------------------------------------------\u001b[0m",
      "\u001b[1;31mNameError\u001b[0m                                 Traceback (most recent call last)",
      "Cell \u001b[1;32mIn[80], line 4\u001b[0m\n\u001b[0;32m      1\u001b[0m \u001b[38;5;28;01mdef\u001b[39;00m \u001b[38;5;21msturges\u001b[39m (N):\n\u001b[0;32m      2\u001b[0m     \u001b[38;5;28;01mreturn\u001b[39;00m \u001b[38;5;28mint\u001b[39m(np\u001b[38;5;241m.\u001b[39mceil( \u001b[38;5;241m1\u001b[39m \u001b[38;5;241m+\u001b[39m \u001b[38;5;241m3.322\u001b[39m \u001b[38;5;241m*\u001b[39m np\u001b[38;5;241m.\u001b[39mlog(N) ) )\n\u001b[1;32m----> 4\u001b[0m N_bins \u001b[38;5;241m=\u001b[39m sturges(\u001b[38;5;28mlen\u001b[39m(\u001b[43mdati\u001b[49m))\n\u001b[0;32m      5\u001b[0m bins\u001b[38;5;241m=\u001b[39m np\u001b[38;5;241m.\u001b[39mlinspace(xMin,xMax,N_bins)\n",
      "\u001b[1;31mNameError\u001b[0m: name 'dati' is not defined"
     ]
    }
   ],
   "source": [
    "def sturger (N):\n",
    "    return int(np.ceil( 1 + 3.322 * np.log(N) ) )\n",
    "\n",
    "N_bins = sturges(len(dati))\n",
    "bins= np.linspace()\n"
   ]
  },
  {
   "cell_type": "code",
   "execution_count": null,
   "metadata": {},
   "outputs": [],
   "source": []
  },
  {
   "cell_type": "code",
   "execution_count": 106,
   "metadata": {},
   "outputs": [
    {
     "data": {
      "image/png": "[encoded data removed]",
      "text/plain": [
       "<Figure size 640x480 with 1 Axes>"
      ]
     },
     "metadata": {},
     "output_type": "display_data"
    }
   ],
   "source": [
    "#scala logaritmica su matplotlib\n",
    "\n",
    "\n",
    "N_gau = np.random.normal(190,20,200)\n",
    "\n",
    "N_bins=sturges(len(N_gau))\n",
    "bin_edges=np.linspace(np.min(N_gau),np.max(N_gau),N_bins)\n",
    "\n",
    "\n",
    "mean_value =np.mean(N_gau)\n",
    "\n",
    "\n",
    "fig,ax = plt.subplots()\n",
    "plt.hist(N_gau, bins=bin_edges, label=\"Dati gaussiani\")\n",
    "plt.grid()\n",
    "ax.set_xlabel(\"Valori\")\n",
    "ax.set_ylabel(\"N° Eventi\")\n",
    "vertical_lim = ax.get_ylim()\n",
    "ax.plot([np.mean(N_gau),np.mean(N_gau)],vertical_lim, label=f\"Media ={mean_value:.2f}\", color=\"red\")\n",
    "plt.legend()\n",
    "plt.show()\n"
   ]
  },
  {
   "cell_type": "markdown",
   "metadata": {},
   "source": [
    "# Notable pdf\n",
    "\n",
    "# Parametri per distribuzioni continue  PDF: \n",
    " - loc = location = posizione = \"mean\"\n",
    " - scale = scala = \"std\"\n",
    "\n",
    "# Per distribuzioni discrete si usa PMF"
   ]
  },
  {
   "cell_type": "code",
   "execution_count": null,
   "metadata": {},
   "outputs": [],
   "source": [
    "#Poisson e binomiale"
   ]
  },
  {
   "cell_type": "code",
   "execution_count": null,
   "metadata": {},
   "outputs": [],
   "source": [
    "from scipy.stats import norm\n",
    "\n",
    "norm.pdf\n",
    "norm.pdf\n",
    "\n",
    "#per calcolare i momenta:\n",
    "\n",
    "mean, var, skew, kurt = norm.stats(moments=\"mvsk\")\n",
    "\n"
   ]
  },
  {
   "cell_type": "markdown",
   "metadata": {},
   "source": [
    "# Integrazione con scipy\n"
   ]
  },
  {
   "cell_type": "code",
   "execution_count": 116,
   "metadata": {},
   "outputs": [
    {
     "name": "stdout",
     "output_type": "stream",
     "text": [
      "valore integrale: 1.83\n",
      "errore associato: 2.04e-14\n",
      "valore integrale: 1.00\n",
      "errore associato: 5.84e-11\n"
     ]
    }
   ],
   "source": [
    "from scipy.integrate import quad\n",
    "\n",
    "def f(x):\n",
    "    return x**2 + x + 1\n",
    "\n",
    "integrale = quad(f,0,1)\n",
    "print(f\"valore integrale: {integrale[0]:.2f}\")    # .f sta per floating point\n",
    "print(f\"errore associato: {integrale[1]:.3g}\")    # .g sta per generale\n",
    "\n",
    "\n",
    "def expon(x):\n",
    "    return np.exp(-x)\n",
    "integrale_2 = quad(expon, 0 , np.inf)\n",
    "print(f\"valore integrale: {integrale_2[0]:.2f}\")    # .f sta per floating point\n",
    "print(f\"errore associato: {integrale_2[1]:.3g}\")\n"
   ]
  },
  {
   "cell_type": "code",
   "execution_count": 119,
   "metadata": {},
   "outputs": [
    {
     "name": "stdout",
     "output_type": "stream",
     "text": [
      "[0.5831485233922129, 0.6129257621613365, 0.15704396132289233, 0.6755628864541291, 0.7188752678570542, 0.0011630017842999552, 0.6499864699312216, 0.04302346980657468, 0.81495767963017, 0.8807651806777361]\n"
     ]
    }
   ],
   "source": [
    "import random\n",
    "\n",
    "\n",
    "def gen_uniform(N: int, seed:float=0.)->float:\n",
    "    if seed!=0. : random.seed(float(seed))\n",
    "    randlist= []\n",
    "    for i in range(N):\n",
    "        randlist.append(random.random())\n",
    "    return randlist\n",
    "\n",
    "\n",
    "print(gen_uniform(10))"
   ]
  },
  {
   "cell_type": "code",
   "execution_count": 123,
   "metadata": {},
   "outputs": [
    {
     "name": "stdout",
     "output_type": "stream",
     "text": [
      "25\n",
      "[0 1 2 3 4 5 6 7 8 9]\n"
     ]
    }
   ],
   "source": [
    "number = 5\n",
    "print ((lambda x : x**2)(number))"
   ]
  },
  {
   "cell_type": "code",
   "execution_count": 139,
   "metadata": {},
   "outputs": [
    {
     "name": "stdout",
     "output_type": "stream",
     "text": [
      "Root of the function is: 1.00\n"
     ]
    }
   ],
   "source": [
    "# finding minimum of a function using bisect method with scipy\n",
    "\n",
    "from scipy.optimize import bisect\n",
    "\n",
    "def f(x):\n",
    "    return x**2 - 1\n",
    "root = bisect(f, 0, 3)\n",
    "\n",
    "print(f\"Root of the function is: {root:.2f}\")"
   ]
  },
  {
   "cell_type": "markdown",
   "metadata": {},
   "source": [
    "# The poisson distribution\n",
    "\n",
    "- Una poissoniana descrive il numero di eventi (counting experiment) indipendenti con un tasso medio di occorrenza $\\lambda$\n",
    "\n",
    "- Una esponenziale descrive il tempo t tra eventi poissoniani, il tempo medio tra eventi è il reciproco di lambda $t_0 = \\frac{1}{\\lambda}$\n",
    "\n",
    "\n"
   ]
  },
  {
   "cell_type": "code",
   "execution_count": 155,
   "metadata": {},
   "outputs": [
    {
     "data": {
      "image/png": "[encoded data removed]",
      "text/plain": [
       "<Figure size 640x480 with 1 Axes>"
      ]
     },
     "metadata": {},
     "output_type": "display_data"
    }
   ],
   "source": [
    "import numpy as np\n",
    "\n",
    "N_poiss = np.random.poisson(lam = 7, size = 10000)\n",
    "\n",
    "plt.hist(N_poiss, bins = 30, color = \"Purple\")\n",
    "plt.grid()\n",
    "plt.title(\"Distribuzione di Poisson\")\n",
    "plt.xlabel(\"Valori\")\n",
    "plt.ylabel(\"N° Eventi\")\n",
    "plt.show()\n"
   ]
  },
  {
   "cell_type": "code",
   "execution_count": 157,
   "metadata": {},
   "outputs": [
    {
     "data": {
      "image/png": "[encoded data removed]",
      "text/plain": [
       "<Figure size 640x480 with 1 Axes>"
      ]
     },
     "metadata": {},
     "output_type": "display_data"
    }
   ],
   "source": [
    "import numpy as np\n",
    "import matplotlib.pyplot as plt\n",
    "\n",
    "def poissonian(lambda_value=10, N_exp=2000):\n",
    "    \"\"\"\n",
    "    Generate a sample of Poisson-distributed events and plot the histogram.\n",
    "\n",
    "    Parameters:\n",
    "    lambda_value (float): The average rate of events (λ).\n",
    "    N_exp (int): The number of events to generate.\n",
    "\n",
    "    Returns:\n",
    "    sample (ndarray): The generated sample of Poisson-distributed events.\n",
    "    \"\"\"\n",
    "    # Generate the sample of Poisson-distributed events\n",
    "    sample = np.random.poisson(lam=lambda_value, size=N_exp)\n",
    "    \n",
    "    # Plot the histogram of the sample\n",
    "    plt.hist(sample, bins=30, density=True, alpha=0.75, color='Purple', edgecolor='black')\n",
    "    plt.title(f'Poisson Distribution (λ={lambda_value}, N={N_exp})')\n",
    "    plt.xlabel('Number of events')\n",
    "    plt.ylabel('Density')\n",
    "    plt.grid(True)\n",
    "    plt.show()\n",
    "    \n",
    "    return sample\n",
    "\n",
    "# Example usage\n",
    "sample = poissonian(lambda_value=10, N_exp=2000)\n"
   ]
  },
  {
   "cell_type": "code",
   "execution_count": null,
   "metadata": {},
   "outputs": [],
   "source": []
  },
  {
   "cell_type": "code",
   "execution_count": 165,
   "metadata": {},
   "outputs": [
    {
     "data": {
      "image/png": "[encoded data removed]",
      "text/plain": [
       "<Figure size 640x480 with 1 Axes>"
      ]
     },
     "metadata": {},
     "output_type": "display_data"
    }
   ],
   "source": [
    "\n",
    "\n",
    "def poissonian(lambda_value=10, N_exp=2000):\n",
    "    \"\"\"\n",
    "    Generate a sample of Poisson-distributed events and plot the histogram using Sturges' rule for bins.\n",
    "\n",
    "    Parameters:\n",
    "    lambda_value (float): The average rate of events (λ).\n",
    "    N_exp (int): The number of events to generate.\n",
    "\n",
    "    Returns:\n",
    "    sample (ndarray): The generated sample of Poisson-distributed events.\n",
    "    bin_edges (ndarray): The edges of the bins used in the histogram.\n",
    "    \"\"\"\n",
    "    # Generate the sample of Poisson-distributed events\n",
    "    sample = np.random.poisson(lam=lambda_value, size=N_exp)\n",
    "    \n",
    "    # Calculate the number of bins using Sturges' rule\n",
    "    num_bins = int(np.ceil(np.log2(N_exp) + 1))\n",
    "    \n",
    "    # Plot the histogram of the sample\n",
    "    counts, bin_edges, _ = plt.hist(sample, bins=num_bins, density=True, alpha=0.75, color='Purple', edgecolor='black')\n",
    "    plt.title(f'Poisson Distribution (λ={lambda_value}, N={N_exp})')\n",
    "    plt.xlabel('Number of events')\n",
    "    plt.ylabel('Density')\n",
    "    plt.grid(True)\n",
    "    plt.show()\n",
    "    \n",
    "    return sample, bin_edges\n",
    "\n",
    "# Example usage\n",
    "sample, bin_edges = poissonian(lambda_value=10, N_exp=2000)\n",
    "\n"
   ]
  },
  {
   "cell_type": "markdown",
   "metadata": {},
   "source": [
    "# The LIKELIHOOD "
   ]
  },
  {
   "cell_type": "code",
   "execution_count": 170,
   "metadata": {},
   "outputs": [],
   "source": [
    "#esempio \n",
    "\n",
    "# Prima cosa è scrivere la pdf\n",
    "\n",
    "def exp_pdf(x,tau):\n",
    "    return exp(-x/tau)/tau\n",
    "\n",
    "\n",
    "def loglikelihood(theta, pdf, sample):\n",
    "    logL = 0\n",
    "    for _ in sample:\n",
    "        if (pdf(x,theta) > 0): logL += np.log(pdf(x,theta))\n",
    "    return logL"
   ]
  },
  {
   "cell_type": "code",
   "execution_count": null,
   "metadata": {},
   "outputs": [],
   "source": [
    "single_toy = np.random.expon(lamb= lambda_value, size = sample_size)\n"
   ]
  },
  {
   "cell_type": "code",
   "execution_count": null,
   "metadata": {},
   "outputs": [],
   "source": [
    "from iminuit import Minuit\n",
    "from iminuit.cost import LeastSquares, ExtendedBinnedNLL\n",
    "from scipy.stats import chi2\n",
    "\n",
    "def LS_fit(data_x:list, data_y:list, y_err:list, model:'function', disp = 1, **kwrds):\n",
    "    \"\"\"\n",
    "    Fit dei dati con metodo dei minimi quadrati.\n",
    "\n",
    "    Ritorna in ordine: parametri, valori, errori, p-value, gradi di lib., chi-quadro, matrice di covarianza\n",
    "    \n",
    "    Usare x, y, *z = LS_fit(...), dove *z racchiude tutte gli altri valori\n",
    "    \"\"\"\n",
    "    cost_function = LeastSquares(data_x, data_y, y_err, model)\n",
    "\n",
    "    my_minuit = Minuit(cost_function, **kwrds)\n",
    "    my_minuit.migrad()\n",
    "    my_minuit.hesse()\n",
    "\n",
    "    params = my_minuit.parameters\n",
    "    values = my_minuit.values\n",
    "    uncert = my_minuit.errors\n",
    "    chi_quadro = my_minuit.fval\n",
    "    dof = my_minuit.ndof\n",
    "    cov = my_minuit.covariance\n",
    "\n",
    "    pval = 1. - chi2.cdf(chi_quadro, df = dof)\n",
    "\n",
    "    if disp : display(my_minuit) # type: ignore\n",
    "\n",
    "    return params, values, uncert, pval, dof, chi_quadro, cov\n",
    "\n",
    "\n",
    "def Binned_fit(bin_content:list, bin_edges:list, modello:'function', disp = 1, **kwrds):\n",
    "    \"\"\"\n",
    "    Fit di dati da un istogramma.\n",
    "\n",
    "    Ritorna in ordine: parametri, valori, errori, p-value, gradi di lib., chi-quadro, matrice di covarianza\n",
    "    \"\"\"\n",
    "    cost_function = ExtendedBinnedNLL(bin_content, bin_edges, modello)\n",
    "\n",
    "    my_minuit = Minuit(cost_function, **kwrds)\n",
    "    my_minuit.migrad()\n",
    "    my_minuit.hesse()\n",
    "\n",
    "    params = my_minuit.parameters\n",
    "    values = my_minuit.values\n",
    "    uncert = my_minuit.errors\n",
    "    chi_quadro = my_minuit.fval\n",
    "    dof = my_minuit.ndof\n",
    "    cov = my_minuit.covariance\n",
    "\n",
    "    pval = 1. - chi2.cdf(chi_quadro, df = dof)\n",
    "\n",
    "    if disp : display(my_minuit) # type: ignore\n",
    "\n",
    "    return params, values, uncert, pval, dof, chi_quadro, cov\n",
    "\n",
    "def TestCompatibilita(x0:float, sigma0:float, x1:float, sigma1:float = 0) -> float:\n",
    "    \"\"\"\n",
    "    Test di compatibilità tra due valori.\n",
    "    \"\"\"\n",
    "    sigma = (sigma0**2 + sigma1**2)**0.5\n",
    "    z = abs(x0 - x1) / sigma\n",
    "\n",
    "    return z"
   ]
  },
  {
   "cell_type": "code",
   "execution_count": null,
   "metadata": {},
   "outputs": [],
   "source": []
  }
 ],
 "metadata": {
  "kernelspec": {
   "display_name": "base",
   "language": "python",
   "name": "python3"
  },
  "language_info": {
   "codemirror_mode": {
    "name": "ipython",
    "version": 3
   },
   "file_extension": ".py",
   "mimetype": "text/x-python",
   "name": "python",
   "nbconvert_exporter": "python",
   "pygments_lexer": "ipython3",
   "version": "3.12.4"
  }
 },
 "nbformat": 4,
 "nbformat_minor": 2
}
